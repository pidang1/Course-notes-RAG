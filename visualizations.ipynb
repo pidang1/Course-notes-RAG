{
 "cells": [
  {
   "cell_type": "code",
   "execution_count": 2,
   "id": "d538c39d",
   "metadata": {},
   "outputs": [],
   "source": [
    "import pandas as pd\n",
    "import matplotlib.pyplot as plt"
   ]
  },
  {
   "cell_type": "code",
   "execution_count": 3,
   "id": "b5293c1c",
   "metadata": {},
   "outputs": [],
   "source": [
    "# Graph the average query time for each database\n",
    "# Load the CSV file\n",
    "csv_path = \"./scored_experiment_results.csv\"\n",
    "df = pd.read_csv(csv_path)"
   ]
  },
  {
   "cell_type": "code",
   "execution_count": null,
   "id": "b910d46c",
   "metadata": {},
   "outputs": [],
   "source": [
    "# Compute the average query time for each database\n",
    "avg_query_times = df.groupby(\"database\")[\"query_time\"].mean()"
   ]
  }
 ],
 "metadata": {
  "kernelspec": {
   "display_name": "Python 3 (ipykernel)",
   "language": "python",
   "name": "python3"
  },
  "language_info": {
   "codemirror_mode": {
    "name": "ipython",
    "version": 3
   },
   "file_extension": ".py",
   "mimetype": "text/x-python",
   "name": "python",
   "nbconvert_exporter": "python",
   "pygments_lexer": "ipython3",
   "version": "3.11.7"
  }
 },
 "nbformat": 4,
 "nbformat_minor": 5
}
